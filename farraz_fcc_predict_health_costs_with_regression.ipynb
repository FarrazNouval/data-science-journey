{
  "nbformat": 4,
  "nbformat_minor": 0,
  "metadata": {
    "colab": {
      "provenance": [],
      "private_outputs": true,
      "collapsed_sections": [],
      "include_colab_link": true
    },
    "kernelspec": {
      "display_name": "Python 3",
      "name": "python3"
    },
    "gpuClass": "standard"
  },
  "cells": [
    {
      "cell_type": "markdown",
      "metadata": {
        "id": "view-in-github",
        "colab_type": "text"
      },
      "source": [
        "<a href=\"https://colab.research.google.com/github/FarrazNouval/data-science-notebooks/blob/main/farraz_fcc_predict_health_costs_with_regression.ipynb\" target=\"_parent\"><img src=\"https://colab.research.google.com/assets/colab-badge.svg\" alt=\"Open In Colab\"/></a>"
      ]
    },
    {
      "cell_type": "markdown",
      "metadata": {
        "id": "M9TX15KOkPBV"
      },
      "source": [
        "*Note: You are currently reading this using Google Colaboratory which is a cloud-hosted version of Jupyter Notebook. This is a document containing both text cells for documentation and runnable code cells. If you are unfamiliar with Jupyter Notebook, watch this 3-minute introduction before starting this challenge: https://www.youtube.com/watch?v=inN8seMm7UI*\n",
        "\n",
        "---\n",
        "\n",
        "In this challenge, you will predict healthcare costs using a regression algorithm.\n",
        "\n",
        "You are given a dataset that contains information about different people including their healthcare costs. Use the data to predict healthcare costs based on new data.\n",
        "\n",
        "The first two cells of this notebook import libraries and the data.\n",
        "\n",
        "Make sure to convert categorical data to numbers. Use 80% of the data as the `train_dataset` and 20% of the data as the `test_dataset`.\n",
        "\n",
        "`pop` off the \"expenses\" column from these datasets to create new datasets called `train_labels` and `test_labels`. Use these labels when training your model.\n",
        "\n",
        "Create a model and train it with the `train_dataset`. Run the final cell in this notebook to check your model. The final cell will use the unseen `test_dataset` to check how well the model generalizes.\n",
        "\n",
        "To pass the challenge, `model.evaluate` must return a Mean Absolute Error of under 3500. This means it predicts health care costs correctly within $3500.\n",
        "\n",
        "The final cell will also predict expenses using the `test_dataset` and graph the results."
      ]
    },
    {
      "cell_type": "code",
      "metadata": {
        "id": "1rRo8oNqZ-Rj"
      },
      "source": [
        "# Import libraries. You may or may not use all of these.\n",
        "!pip install -q git+https://github.com/tensorflow/docs\n",
        "import matplotlib.pyplot as plt\n",
        "import numpy as np\n",
        "import pandas as pd\n",
        "\n",
        "try:\n",
        "  # %tensorflow_version only exists in Colab.\n",
        "  %tensorflow_version 2.x\n",
        "except Exception:\n",
        "  pass\n",
        "import tensorflow as tf\n",
        "\n",
        "from tensorflow import keras\n",
        "from tensorflow.keras import layers\n",
        "\n",
        "import tensorflow_docs as tfdocs\n",
        "import tensorflow_docs.plots\n",
        "import tensorflow_docs.modeling"
      ],
      "execution_count": null,
      "outputs": []
    },
    {
      "cell_type": "code",
      "metadata": {
        "id": "CiX2FI4gZtTt"
      },
      "source": [
        "# Import data\n",
        "!wget https://cdn.freecodecamp.org/project-data/health-costs/insurance.csv\n",
        "dataset = pd.read_csv('insurance.csv')\n",
        "dataset.tail()"
      ],
      "execution_count": null,
      "outputs": []
    },
    {
      "cell_type": "code",
      "metadata": {
        "id": "LcopvQh3X-kX"
      },
      "source": [
        "dataset.info()"
      ],
      "execution_count": null,
      "outputs": []
    },
    {
      "cell_type": "code",
      "source": [
        "dataset.describe()"
      ],
      "metadata": {
        "id": "qHxGGSIvTfv3"
      },
      "execution_count": null,
      "outputs": []
    },
    {
      "cell_type": "code",
      "source": [
        "dataset.age.value_counts()"
      ],
      "metadata": {
        "id": "nz0XfukjWlpD"
      },
      "execution_count": null,
      "outputs": []
    },
    {
      "cell_type": "code",
      "source": [
        "import seaborn as sns\n",
        "fig, axes = plt.subplots(3, 2, figsize=(14, 15))\n",
        "fig.suptitle('Continous Data Distribution')\n",
        "\n",
        "axes[0, 0].hist(x=dataset.age)\n",
        "axes[0, 0].set_xlabel('age')\n",
        "axes[0, 0].set_ylabel('frequencies')\n",
        "\n",
        "sns.boxplot(x=dataset.age, ax=axes[0, 1])\n",
        "axes[0, 1].set_xlabel('age')\n",
        "\n",
        "axes[1, 0].hist(x=dataset.bmi)\n",
        "axes[1, 0].set_xlabel('bmi')\n",
        "axes[1, 0].set_ylabel('frequencies')\n",
        "\n",
        "sns.boxplot(x=dataset.bmi, ax=axes[1, 1])\n",
        "axes[1, 1].set_xlabel('bmi')\n",
        "\n",
        "axes[2, 0].hist(x=dataset.expenses)\n",
        "axes[2, 0].set_xlabel('expenses')\n",
        "axes[2, 0].set_ylabel('frequencies')\n",
        "\n",
        "sns.boxplot(x=dataset.expenses)\n",
        "axes[2, 1].set_xlabel('expenses');\n"
      ],
      "metadata": {
        "id": "KFRbSJwXLSHO"
      },
      "execution_count": null,
      "outputs": []
    },
    {
      "cell_type": "code",
      "source": [
        "fig, axes = plt.subplots(2, 2, figsize=(18, 14))\n",
        "fig.suptitle('Discrete and Categorical Data Distribution')\n",
        "\n",
        "sns.countplot(x=dataset.children, ax=axes[0, 0])\n",
        "axes[0, 0].set_xlabel('number of childrens')\n",
        "axes[0, 0].set_ylabel('frequencies')\n",
        "\n",
        "sns.countplot(x=dataset.smoker, ax=axes[0, 1])\n",
        "axes[0, 1].set_xlabel('is smoker ?')\n",
        "axes[0, 1].set_ylabel('frequencies')\n",
        "\n",
        "sns.countplot(x=dataset.sex, ax=axes[1, 0])\n",
        "axes[1, 0].set_xlabel('sex')\n",
        "axes[1, 0].set_ylabel('frequencies')\n",
        "\n",
        "\n",
        "sns.countplot(x=dataset.region, ax=axes[1, 1])\n",
        "axes[1, 1].set_xlabel('region')\n",
        "axes[1, 1].set_ylabel('frequencies');\n"
      ],
      "metadata": {
        "id": "lmsFFGfmYSMD"
      },
      "execution_count": null,
      "outputs": []
    },
    {
      "cell_type": "code",
      "source": [
        "cols = dataset.columns\n",
        "input_cols = list(cols)[:len(cols)-1]\n",
        "target = 'expenses'\n",
        "\n",
        "inputs_df = dataset[input_cols].copy()\n",
        "target = dataset[target]\n",
        "\n",
        "print(type(inputs_df))\n",
        "inputs_df"
      ],
      "metadata": {
        "id": "Dx78jDpXhCS7"
      },
      "execution_count": null,
      "outputs": []
    },
    {
      "cell_type": "code",
      "source": [
        "print(type(target))\n",
        "target"
      ],
      "metadata": {
        "id": "t75YEguMlcUx"
      },
      "execution_count": null,
      "outputs": []
    },
    {
      "cell_type": "code",
      "source": [
        "numeric_cols = list(inputs_df.dtypes[inputs_df.dtypes != 'object'].index)\n",
        "categorical_cols = list(inputs_df.dtypes[inputs_df.dtypes == 'object'].index)\n",
        "\n",
        "num_data = inputs_df[numeric_cols]\n",
        "cat_data = inputs_df[categorical_cols]\n"
      ],
      "metadata": {
        "id": "49xuFQ_LiQq8"
      },
      "execution_count": null,
      "outputs": []
    },
    {
      "cell_type": "code",
      "source": [
        "num_data\n"
      ],
      "metadata": {
        "id": "3RtMcFT-lmLi"
      },
      "execution_count": null,
      "outputs": []
    },
    {
      "cell_type": "code",
      "source": [
        "cat_data"
      ],
      "metadata": {
        "id": "v8xAQOBISxzf"
      },
      "execution_count": null,
      "outputs": []
    },
    {
      "cell_type": "code",
      "source": [
        "import sklearn \n",
        "from sklearn.preprocessing import OneHotEncoder"
      ],
      "metadata": {
        "id": "BssPNN9ilwyh"
      },
      "execution_count": null,
      "outputs": []
    },
    {
      "cell_type": "code",
      "source": [
        "encoder = OneHotEncoder(sparse=False, handle_unknown='ignore')\n",
        "encoder.fit(cat_data)\n",
        "encoded_cols = list(encoder.get_feature_names(categorical_cols))\n",
        "inputs_df[encoded_cols] = encoder.transform(cat_data)\n"
      ],
      "metadata": {
        "id": "lw9QTyeVmAC6"
      },
      "execution_count": null,
      "outputs": []
    },
    {
      "cell_type": "code",
      "source": [
        "inputs_df"
      ],
      "metadata": {
        "id": "K56NjxBnTiWI"
      },
      "execution_count": null,
      "outputs": []
    },
    {
      "cell_type": "code",
      "source": [
        "from sklearn.model_selection import train_test_split\n",
        "\n",
        "train_features, test_dataset, train_labels, test_labels = train_test_split(inputs_df[numeric_cols + encoded_cols],\n",
        "                                                                            target,\n",
        "                                                                            test_size=0.2,\n",
        "                                                                            random_state=42)\n"
      ],
      "metadata": {
        "id": "JNvBa5zWVodh"
      },
      "execution_count": null,
      "outputs": []
    },
    {
      "cell_type": "code",
      "source": [
        "train_features\n"
      ],
      "metadata": {
        "id": "ksyd7TD0n83w"
      },
      "execution_count": null,
      "outputs": []
    },
    {
      "cell_type": "code",
      "source": [
        "train_labels"
      ],
      "metadata": {
        "id": "cL7WrH4FX0DV"
      },
      "execution_count": null,
      "outputs": []
    },
    {
      "cell_type": "code",
      "source": [
        "model = keras.Sequential([layers.Input(shape=(len(train_features.keys()),)),\n",
        "                          layers.Normalization(axis=-1),\n",
        "                          layers.Dense(11, activation='relu'),\n",
        "                          layers.Dropout(0.1),\n",
        "                          layers.Dense(64, activation='relu'),\n",
        "                          layers.Dropout(0.1),\n",
        "                          layers.Dense(64, activation='relu'),\n",
        "                          layers.Dense(1, activation='relu')])\n",
        "\n",
        "\n"
      ],
      "metadata": {
        "id": "CuJejCrbpgPU"
      },
      "execution_count": null,
      "outputs": []
    },
    {
      "cell_type": "code",
      "source": [
        "model.compile(loss='mean_absolute_error',\n",
        "              optimizer=keras.optimizers.RMSprop(0.001),\n",
        "              metrics=['mae', 'mse']) "
      ],
      "metadata": {
        "id": "lvndMrk7coES"
      },
      "execution_count": null,
      "outputs": []
    },
    {
      "cell_type": "code",
      "source": [
        "#setting callbacks\n",
        "#reduce learning rate\n",
        "set_lr = keras.callbacks.ReduceLROnPlateau(monitor='loss',\n",
        "                                           patience=7,\n",
        "                                           min_lr=0.0001,\n",
        "                                           verbose=1)\n",
        "\n",
        "#set checkpoint\n",
        "set_cp = keras.callbacks.ModelCheckpoint(monitor='loss',\n",
        "                                         filepath='/content/model.h5',\n",
        "                                         save_best_only=True,\n",
        "                                         verbose=1)\n",
        "#custom callback for early stopping\n",
        "class SpecificStopper(keras.callbacks.Callback):\n",
        "  def __init__(self, exp_loss, exp_val_loss):\n",
        "    super(SpecificStopper).__init__()\n",
        "    self.exp_loss = exp_loss\n",
        "    self.exp_val_loss = exp_val_loss\n",
        "  def on_epoch_end(self, epoch, logs={}):\n",
        "    loss = logs.get('loss')\n",
        "    val_loss = logs.get('val_loss')\n",
        "    if ((loss <= self.exp_loss) and (val_loss <= self.exp_val_loss)):\n",
        "      print('early stopping')\n",
        "      self.model.stop_training = True\n",
        "\n",
        "set_stop = SpecificStopper(3500, 3500)"
      ],
      "metadata": {
        "id": "XPhReRQjbFSI"
      },
      "execution_count": null,
      "outputs": []
    },
    {
      "cell_type": "code",
      "source": [
        "history = model.fit(train_features,\n",
        "                    train_labels,\n",
        "                    validation_split=0.2,\n",
        "                    verbose=1,\n",
        "                    epochs=1000,\n",
        "                    callbacks=[set_lr, set_cp, set_stop])"
      ],
      "metadata": {
        "id": "mGOmtabIdUTj"
      },
      "execution_count": null,
      "outputs": []
    },
    {
      "cell_type": "code",
      "source": [
        "model = keras.models.load_model('/content/model.h5')\n"
      ],
      "metadata": {
        "id": "u_p8_4zSonCj"
      },
      "execution_count": null,
      "outputs": []
    },
    {
      "cell_type": "code",
      "metadata": {
        "id": "Xe7RXH3N3CWU"
      },
      "source": [
        "# RUN THIS CELL TO TEST YOUR MODEL. DO NOT MODIFY CONTENTS.\n",
        "# Test model by checking how well the model generalizes using the test set.\n",
        "loss, mae, mse = model.evaluate(test_dataset, test_labels, verbose=2)\n",
        "\n",
        "print(\"Testing set Mean Abs Error: {:5.2f} expenses\".format(mae))\n",
        "\n",
        "if mae < 3500:\n",
        "  print(\"You passed the challenge. Great job!\")\n",
        "else:\n",
        "  print(\"The Mean Abs Error must be less than 3500. Keep trying.\")\n",
        "\n",
        "# Plot predictions.\n",
        "test_predictions = model.predict(test_dataset).flatten()\n",
        "\n",
        "a = plt.axes(aspect='equal')\n",
        "plt.scatter(test_labels, test_predictions)\n",
        "plt.xlabel('True values (expenses)')\n",
        "plt.ylabel('Predictions (expenses)')\n",
        "lims = [0, 50000]\n",
        "plt.xlim(lims)\n",
        "plt.ylim(lims)\n",
        "_ = plt.plot(lims,lims)\n"
      ],
      "execution_count": null,
      "outputs": []
    }
  ]
}